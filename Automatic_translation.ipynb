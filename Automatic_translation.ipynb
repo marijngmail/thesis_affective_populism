{
 "cells": [
  {
   "cell_type": "code",
   "execution_count": null,
   "id": "e447b673",
   "metadata": {},
   "outputs": [],
   "source": [
    "import os"
   ]
  },
  {
   "cell_type": "code",
   "execution_count": null,
   "id": "9993543e",
   "metadata": {},
   "outputs": [],
   "source": [
    "filepath = \"outputs/F_azarkan_2020-09-17_2021-03-17.csv\" #any filepath\n",
    "\n",
    "#import the csv file into a dataframe in the environment\n",
    "import pandas as pd\n",
    "df = pd.read_csv (filepath)\n",
    "print(df['Embedded_text'])"
   ]
  },
  {
   "cell_type": "code",
   "execution_count": null,
   "id": "a8eaa151",
   "metadata": {},
   "outputs": [],
   "source": [
    "from google.cloud import translate_v2 #import googletransalte services\n",
    " \n",
    "os.environ['GOOGLE_APPLICATION_CREDENTIALS'] = r\"googlekey.json\" #personal keys\n",
    "\n",
    "translator = translate_v2.Client()\n",
    "\n",
    "target=\"en\"\n",
    "\n",
    "#translate a column in the dataframe\n",
    "df['translated'] = df['Embedded_text'].apply(translator.translate, target_language=target)\n",
    "\n",
    "df['translated']"
   ]
  },
  {
   "cell_type": "code",
   "execution_count": null,
   "id": "9547a1f4",
   "metadata": {},
   "outputs": [],
   "source": [
    "df_all_rows = pd.concat([df1,df2,df3,df4,df5,df6,df7,df8,df9,df10,df11,df12,df13,df14,df15,df16,df17])"
   ]
  },
  {
   "cell_type": "code",
   "execution_count": null,
   "id": "945a4b18",
   "metadata": {},
   "outputs": [],
   "source": [
    "df_all_rows.to_csv(r'/Users/marijnvergunst/Documents/UvA/Thesis/Python_Jupyter/Scweet-master/dfs_translated_clean2.csv')"
   ]
  }
 ],
 "metadata": {
  "kernelspec": {
   "display_name": "Python 3 (ipykernel)",
   "language": "python",
   "name": "python3"
  },
  "language_info": {
   "codemirror_mode": {
    "name": "ipython",
    "version": 3
   },
   "file_extension": ".py",
   "mimetype": "text/x-python",
   "name": "python",
   "nbconvert_exporter": "python",
   "pygments_lexer": "ipython3",
   "version": "3.9.7"
  }
 },
 "nbformat": 4,
 "nbformat_minor": 5
}
