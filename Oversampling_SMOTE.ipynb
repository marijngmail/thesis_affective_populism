{
 "cells": [
  {
   "cell_type": "code",
   "execution_count": 4,
   "id": "007882f9",
   "metadata": {},
   "outputs": [],
   "source": [
    "filepath = \"dfs_elim.csv\"\n",
    "\n",
    "import pandas as pd\n",
    "df = pd.read_csv (filepath)"
   ]
  },
  {
   "cell_type": "code",
   "execution_count": 9,
   "id": "a83e4e6f",
   "metadata": {},
   "outputs": [],
   "source": [
    "from collections import Counter\n",
    "from sklearn.datasets import make_classification\n",
    "from matplotlib import pyplot\n",
    "from numpy import where"
   ]
  },
  {
   "cell_type": "code",
   "execution_count": 13,
   "id": "0329d4d7",
   "metadata": {},
   "outputs": [],
   "source": [
    "class_counts = df['UserScreenName'].value_counts()\n",
    "class_weights = len(class_counts)/class_counts\n",
    "resampled_df = df.sample(\n",
    "    n=class_counts.max()*len(class_counts),\n",
    "    weights=df['UserScreenName'].map(class_weights), \n",
    "    replace=True)"
   ]
  },
  {
   "cell_type": "code",
   "execution_count": 19,
   "id": "52504bf6",
   "metadata": {},
   "outputs": [
    {
     "name": "stdout",
     "output_type": "stream",
     "text": [
      "Counter({'Farid Azarkan': 1066, 'Lilian Marijnissen': 1060, 'Gert-Jan Segers': 1042, 'Sigrid Kaag': 1041, 'Thierry Baudet': 1039, 'Caroline van der Plas': 1038, 'Esther Ouwehand': 1026, 'Lilianne Ploumen': 1016, 'Jesse Klaver': 1013, 'Liane den Haan': 1010, 'Sylvana Simons': 1006, 'Laurens Dassen': 998, 'Mark Rutte': 998, 'Joost Eerdmans': 994, 'Geert Wilders': 993, 'Wopke Hoekstra': 988, 'Kees van der Staaij': 961})\n"
     ]
    }
   ],
   "source": [
    "counter = Counter(resampled_df['UserScreenName'])\n",
    "print(counter)"
   ]
  },
  {
   "cell_type": "code",
   "execution_count": 18,
   "id": "80333dfc",
   "metadata": {},
   "outputs": [],
   "source": [
    "resampled_df.to_csv('resampled_df.csv')"
   ]
  }
 ],
 "metadata": {
  "kernelspec": {
   "display_name": "Python 3 (ipykernel)",
   "language": "python",
   "name": "python3"
  },
  "language_info": {
   "codemirror_mode": {
    "name": "ipython",
    "version": 3
   },
   "file_extension": ".py",
   "mimetype": "text/x-python",
   "name": "python",
   "nbconvert_exporter": "python",
   "pygments_lexer": "ipython3",
   "version": "3.9.7"
  }
 },
 "nbformat": 4,
 "nbformat_minor": 5
}
